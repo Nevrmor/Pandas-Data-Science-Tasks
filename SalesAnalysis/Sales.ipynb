{
 "cells": [
  {
   "cell_type": "code",
   "execution_count": 4,
   "id": "e16cc33c",
   "metadata": {},
   "outputs": [],
   "source": [
    "import pandas as pd\n",
    "import numpy as np\n",
    "import matplotlib.pyplot as plt\n",
    "import seaborn as sns\n",
    "import os"
   ]
  },
  {
   "cell_type": "markdown",
   "id": "4513869f",
   "metadata": {},
   "source": [
    "## Generating DataFrame"
   ]
  },
  {
   "cell_type": "code",
   "execution_count": 13,
   "id": "3baac24b",
   "metadata": {},
   "outputs": [],
   "source": [
    "path = \"./Sales_Data\"\n",
    "files = [file for file in os.listdir(path) if not file.startswith('.')] # Ignore hidden files\n",
    "all_months_data = pd.DataFrame()\n",
    "\n",
    "for file in files:\n",
    "    current_data = pd.read_csv(path+\"/\"+file)\n",
    "    df = pd.concat([all_months_data, current_data])\n",
    "    \n",
    "df.to_csv(\"all_data_copy.csv\", index=False)\n",
    "df = pd.read_csv('all_data_copy.csv')"
   ]
  },
  {
   "cell_type": "markdown",
   "id": "aa0eea6d",
   "metadata": {},
   "source": [
    "## Generating features"
   ]
  },
  {
   "cell_type": "code",
   "execution_count": 16,
   "id": "a7b6e48a",
   "metadata": {},
   "outputs": [],
   "source": [
    "df = df[df['Quantity Ordered'] != 'Quantity Ordered']\n",
    "df.drop('Month', inplace=True, axis=1)\n",
    "df['Month'] = df['Order Date'].str[0:2].astype(int)\n",
    "df['Quantity Ordered'] = df['Quantity Ordered'].astype('int')\n",
    "df['Price Each'] = df['Price Each'].astype('float')\n",
    "df['Total Sale'] = df['Quantity Ordered'] * df['Price Each']"
   ]
  },
  {
   "cell_type": "markdown",
   "id": "8466ca14",
   "metadata": {},
   "source": [
    "# What was the best month for sales? How much was earned that month?"
   ]
  },
  {
   "cell_type": "code",
   "execution_count": 22,
   "id": "446ffa42",
   "metadata": {},
   "outputs": [
    {
     "data": {
      "image/png": "[encoded data removed]",
      "text/plain": [
       "<Figure size 432x288 with 1 Axes>"
      ]
     },
     "metadata": {
      "needs_background": "light"
     },
     "output_type": "display_data"
    }
   ],
   "source": [
    "sales_month = df.groupby('Month').agg({'Order ID': 'count',\n",
    "                                       'Total Sale': 'sum'})\n",
    "sales_month\n",
    "sales_month['Total Sale'].plot(kind='bar')\n",
    "plt.show()"
   ]
  }
 ],
 "metadata": {
  "kernelspec": {
   "display_name": "Python 3 (ipykernel)",
   "language": "python",
   "name": "python3"
  },
  "language_info": {
   "codemirror_mode": {
    "name": "ipython",
    "version": 3
   },
   "file_extension": ".py",
   "mimetype": "text/x-python",
   "name": "python",
   "nbconvert_exporter": "python",
   "pygments_lexer": "ipython3",
   "version": "3.9.12"
  }
 },
 "nbformat": 4,
 "nbformat_minor": 5
}
